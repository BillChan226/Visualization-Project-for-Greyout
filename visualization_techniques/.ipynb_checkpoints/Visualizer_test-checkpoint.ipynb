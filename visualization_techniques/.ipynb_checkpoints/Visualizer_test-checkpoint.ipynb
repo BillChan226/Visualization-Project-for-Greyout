{
 "cells": [
  {
   "cell_type": "code",
   "execution_count": null,
   "metadata": {},
   "outputs": [],
   "source": [
    "import os\n",
    "import pandas as pd\n",
    "import seaborn as sns\n",
    "import matplotlib.pyplot as plt\n",
    "import warnings\n",
    "warnings.filterwarnings(action='ignore')\n",
    "sns.set(style='white', color_codes=True)\n",
    "plt.style.use('seaborn-whitegrid')\n",
    "\n",
    "# Press the green button in the gutter to run the script.\n",
    "if __name__ == '__main__':\n",
    "\n",
    "    # load data\n",
    "    iris = sns.load_dataset(name='iris', cache=True, data_home='F:/SJTU/Projects/毕业设计/Tryout/visualization techniques/')\n",
    "\n",
    "    # 简单了解一下数据集的结构\n",
    "    print(iris.head(3))\n",
    "\n",
    "    # 描述统计\n",
    "    print(\"\\n\", iris.describe())\n",
    "\n",
    "    print(\"\\n\", iris.Species.value_counts()) #iris['species'].value_counts()\n",
    "\n",
    "    # 利用pandas对象的 .plot() 方法绘制\n",
    "    plt.figure(figsize=(16, 8), dpi=320)\n",
    "    colors = ['blue', 'yellow', 'red']\n",
    "    iris.plot(kind='scatter', x='SepalLengthCm', y='SepalWidthCm', c=colors, s=15)\n",
    "    plt.title(u'Sepal_Length VS Sepal_Width', fontsize=15)\n",
    "    plt.show()\n"
   ]
  },
  {
   "cell_type": "code",
   "execution_count": null,
   "metadata": {},
   "outputs": [],
   "source": [
    "# 利用seaborn库实现带边缘直方图的散点图\n",
    "    plt.figure(figsize=(100, 5), dpi=420)\n",
    "    sns.set(palette=\"Spectral\")\n",
    "    sns.jointplot(x='SepalLengthCm', y='SepalWidthCm', data=iris, color='red')\n",
    "    plt.show()\n",
    "\n",
    "    # 箱形图主要用于可视化原始数据分布的特征 可以显示出一组数据的最大值、最小值、中位数、及上下四分位数\n",
    "    plt.figure(figsize=(5, 5), dpi=420)\n",
    "    sns.boxplot(x='Species', y='PetalLengthCm', data=iris)\n",
    "    sns.stripplot(x='Species', y='PetalLengthCm', data=iris, jitter=True,\n",
    "                  edgecolor='white', size=4)\n",
    "    plt.show()\n",
    "\n",
    "    # 矩阵图 pairplot\n",
    "    plt.figure(figsize=(10,8), dpi= 80)\n",
    "    sns.pairplot(data=iris, kind=\"scatter\", hue=\"Species\") #矩阵散点图 scatter matrices\n",
    "    plt.show()\n",
    "\n",
    "    plt.figure(figsize=(10,8), dpi= 80)\n",
    "    sns.pairplot(data=iris, kind=\"reg\", hue=\"Species\")# 矩阵回归图 regression matrices\n",
    "    plt.show()\n",
    "\n"
   ]
  },
  {
   "cell_type": "code",
   "execution_count": null,
   "metadata": {},
   "outputs": [],
   "source": []
  }
 ],
 "metadata": {
  "kernelspec": {
   "display_name": "Python 3",
   "language": "python",
   "name": "python3"
  },
  "language_info": {
   "codemirror_mode": {
    "name": "ipython",
    "version": 3
   },
   "file_extension": ".py",
   "mimetype": "text/x-python",
   "name": "python",
   "nbconvert_exporter": "python",
   "pygments_lexer": "ipython3",
   "version": "3.7.0"
  }
 },
 "nbformat": 4,
 "nbformat_minor": 2
}
